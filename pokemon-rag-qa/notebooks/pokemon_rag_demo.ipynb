{
 "cells": [
  {
   "cell_type": "markdown",
   "metadata": {},
   "source": [
    "# Pokémon Retrieval-Augmented Generation (RAG) QA System\n",
    "\n",
    "This notebook demonstrates the functionality of the Pokémon RAG QA system. It allows users to ask questions about Pokémon and retrieves answers using the PokéAPI, generating natural language responses with an LLM."
   ]
  },
  {
   "cell_type": "code",
   "execution_count": null,
   "metadata": {},
   "outputs": [],
   "source": [
    "# Import necessary libraries\n",
    "import json\n",
    "from src.main import run_rag_system\n",
    "\n",
    "# Load sample questions from JSON file\n",
    "with open('../data/sample_questions.json', 'r') as f:\n",
    "    sample_questions = json.load(f)\n",
    "\n",
    "# Display the loaded questions\n",
    "print(\"Sample Pokémon Questions:\")\n",
    "for question in sample_questions:\n",
    "    print(f'- {question}')"
   ]
  },
  {
   "cell_type": "code",
   "execution_count": null,
   "metadata": {},
   "outputs": [],
   "source": [
    "# Run the RAG system with the sample questions\n",
    "results = run_rag_system(sample_questions)\n",
    "\n",
    "# Display the results\n",
    "print(\"\\nGenerated Answers:\")\n",
    "for question, answer in results.items():\n",
    "    print(f'Q: {question}\\nA: {answer}\\n')"
   ]
  },
  {
   "cell_type": "code",
   "execution_count": null,
   "metadata": {},
   "outputs": [],
   "source": [
    "# Load evaluation results from JSON file\n",
    "with open('../data/evaluation_results.json', 'r') as f:\n",
    "    evaluation_results = json.load(f)\n",
    "\n",
    "# Display the evaluation results\n",
    "print(\"Evaluation Results:\")\n",
    "for metric, value in evaluation_results.items():\n",
    "    print(f'{metric}: {value}')"
   ]
  }
 ],
 "metadata": {
  "kernelspec": {
   "display_name": "Python 3",
   "language": "python",
   "name": "python3"
  },
  "language_info": {
   "codemirror_mode": {
    "name": "ipython",
    "version": 3
   },
   "file_extension": ".py",
   "mimetype": "text/x-python",
   "name": "python",
   "nbconvert_exporter": "python",
   "pygments_lexer": "ipython3",
   "version": "3.8.5"
  }
 },
 "nbformat": 4,
 "nbformat_minor": 4
}